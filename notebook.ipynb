{
 "cells": [
  {
   "cell_type": "markdown",
   "metadata": {
    "deletable": false,
    "editable": false,
    "run_control": {
     "frozen": true
    },
    "dc": {
     "key": "1d0b086e6c"
    },
    "tags": [
     "context"
    ]
   },
   "source": [
    "## 1. Introduction\n<p>Everyone loves Lego (unless you ever stepped on one). Did you know by the way that \"Lego\" was derived from the Danish phrase leg godt, which means \"play well\"? Unless you speak Danish, probably not. </p>\n<p>In this project, we will analyze a fascinating dataset on every single lego block that has ever been built!</p>\n<p><img src=\"https://s3.amazonaws.com/assets.datacamp.com/production/project_10/datasets/lego-bricks.jpeg\" alt=\"lego\"></p>"
   ]
  },
  {
   "cell_type": "code",
   "execution_count": 126,
   "metadata": {
    "collapsed": true,
    "trusted": true,
    "dc": {
     "key": "1d0b086e6c"
    },
    "tags": [
     "sample_code"
    ]
   },
   "outputs": [],
   "source": [
    "# Nothing to do here"
   ]
  },
  {
   "cell_type": "markdown",
   "metadata": {
    "deletable": false,
    "editable": false,
    "run_control": {
     "frozen": true
    },
    "dc": {
     "key": "044b2cef41"
    },
    "tags": [
     "context"
    ]
   },
   "source": [
    "## 2. Reading Data\n<p>A comprehensive database of lego blocks is provided by <a href=\"https://rebrickable.com/downloads/\">Rebrickable</a>. The data is available as csv files and the schema is shown below.</p>\n<p><img src=\"https://s3.amazonaws.com/assets.datacamp.com/production/project_10/datasets/downloads_schema.png\" alt=\"schema\"></p>\n<p>Let us start by reading in the colors data to get a sense of the diversity of lego sets!</p>"
   ]
  },
  {
   "cell_type": "code",
   "execution_count": 128,
   "metadata": {
    "trusted": true,
    "dc": {
     "key": "044b2cef41"
    },
    "tags": [
     "sample_code"
    ]
   },
   "outputs": [
    {
     "data": {
      "text/html": [
       "<div>\n<table border=\"1\" class=\"dataframe\">\n  <thead>\n    <tr style=\"text-align: right;\">\n      <th></th>\n      <th>id</th>\n      <th>name</th>\n      <th>rgb</th>\n      <th>is_trans</th>\n    </tr>\n  </thead>\n  <tbody>\n    <tr>\n      <th>0</th>\n      <td>-1</td>\n      <td>Unknown</td>\n      <td>0033B2</td>\n      <td>f</td>\n    </tr>\n    <tr>\n      <th>1</th>\n      <td>0</td>\n      <td>Black</td>\n      <td>05131D</td>\n      <td>f</td>\n    </tr>\n    <tr>\n      <th>2</th>\n      <td>1</td>\n      <td>Blue</td>\n      <td>0055BF</td>\n      <td>f</td>\n    </tr>\n    <tr>\n      <th>3</th>\n      <td>2</td>\n      <td>Green</td>\n      <td>237841</td>\n      <td>f</td>\n    </tr>\n    <tr>\n      <th>4</th>\n      <td>3</td>\n      <td>Dark Turquoise</td>\n      <td>008F9B</td>\n      <td>f</td>\n    </tr>\n  </tbody>\n</table>\n</div>"
      ],
      "text/plain": [
       "   id            name     rgb is_trans\n0  -1         Unknown  0033B2        f\n1   0           Black  05131D        f\n2   1            Blue  0055BF        f\n3   2           Green  237841        f\n4   3  Dark Turquoise  008F9B        f"
      ]
     },
     "execution_count": 128,
     "metadata": {},
     "output_type": "execute_result"
    }
   ],
   "source": [
    "# Import modules\n",
    "import pandas as pd\n",
    "\n",
    "# Read colors data\n",
    "colors = pd.read_csv('datasets/colors.csv')\n",
    "\n",
    "# Print the first few rows\n",
    "colors.head()"
   ]
  },
  {
   "cell_type": "markdown",
   "metadata": {
    "deletable": false,
    "editable": false,
    "run_control": {
     "frozen": true
    },
    "dc": {
     "key": "15c1e2ce38"
    },
    "tags": [
     "context"
    ]
   },
   "source": [
    "## 3. Exploring Colors\n<p>Now that we have read the <code>colors</code> data, we can start exploring it! Let us start by understanding the number of colors available.</p>"
   ]
  },
  {
   "cell_type": "code",
   "execution_count": 130,
   "metadata": {
    "trusted": true,
    "dc": {
     "key": "15c1e2ce38"
    },
    "tags": [
     "sample_code"
    ]
   },
   "outputs": [
    {
     "name": "stdout",
     "output_type": "stream",
     "text": [
      "135\n"
     ]
    }
   ],
   "source": [
    "# How many distinct colors are available?\n",
    "num_colors = len(colors[['name']])\n",
    "print(num_colors)"
   ]
  },
  {
   "cell_type": "markdown",
   "metadata": {
    "deletable": false,
    "editable": false,
    "run_control": {
     "frozen": true
    },
    "dc": {
     "key": "a5723ae5c2"
    },
    "tags": [
     "context"
    ]
   },
   "source": [
    "## 4. Transparent Colors in Lego Sets\n",
    "<p>The <code>colors</code> data has a column named <code>is_trans</code> that indicates whether a color is transparent or not. It would be interesting to explore the distribution of transparent vs. non-transparent colors.</p>"
   ]
  },
  {
   "cell_type": "code",
   "execution_count": 132,
   "metadata": {
    "trusted": true,
    "dc": {
     "key": "a5723ae5c2"
    },
    "tags": [
     "sample_code"
    ]
   },
   "outputs": [
    {
     "name": "stdout",
     "output_type": "stream",
     "text": [
      "           id  name  rgb\nis_trans                \nf         107   107  107\nt          28    28   28\n"
     ]
    }
   ],
   "source": [
    "# colors_summary: Distribution of colors based on transparency\n",
    "colors_summary = colors.groupby('is_trans').count()\n",
    "print(colors_summary)"
   ]
  },
  {
   "cell_type": "markdown",
   "metadata": {
    "deletable": false,
    "editable": false,
    "run_control": {
     "frozen": true
    },
    "dc": {
     "key": "c9d0e58653"
    },
    "tags": [
     "context"
    ]
   },
   "source": [
    "## 5. Explore Lego Sets\n<p>Another interesting dataset available in this database is the <code>sets</code> data. It contains a comprehensive list of sets over the years and the number of parts that each of these sets contained. </p>\n<p><img src=\"https://imgur.com/1k4PoXs.png\" alt=\"sets_data\"></p>\n<p>Let us use this data to explore how the average number of parts in Lego sets has varied over the years.</p>"
   ]
  },
  {
   "cell_type": "code",
   "execution_count": 134,
   "metadata": {
    "trusted": true,
    "dc": {
     "key": "c9d0e58653"
    },
    "tags": [
     "sample_code"
    ]
   },
   "outputs": [
    {
     "data": {
      "image/png": "[encoded data removed]",
      "text/plain": [
       "<matplotlib.figure.Figure at 0x7fc3764fb320>"
      ]
     },
     "metadata": {},
     "output_type": "display_data"
    }
   ],
   "source": [
    "%matplotlib inline\n",
    "import matplotlib.pyplot as plt\n",
    "# Read sets data as `sets`\n",
    "sets = pd.read_csv('datasets/sets.csv')\n",
    "# Create a summary of average number of parts by year: `parts_by_year`\n",
    "parts_by_year = sets.groupby('year').mean()[['num_parts']]\n",
    "# Plot trends in average number of parts by year\n",
    "plt.scatter(sets['year'], sets['num_parts'])\n",
    "plt.show()\n"
   ]
  },
  {
   "cell_type": "markdown",
   "metadata": {
    "deletable": false,
    "editable": false,
    "run_control": {
     "frozen": true
    },
    "dc": {
     "key": "266a3f390c"
    },
    "tags": [
     "context"
    ]
   },
   "source": [
    "## 6. Lego Themes Over Years\n<p>Lego blocks ship under multiple <a href=\"https://shop.lego.com/en-US/Themes\">themes</a>. Let us try to get a sense of how the number of themes shipped has varied over the years.</p>"
   ]
  },
  {
   "cell_type": "code",
   "execution_count": 154,
   "metadata": {
    "trusted": true,
    "dc": {
     "key": "266a3f390c"
    },
    "tags": [
     "sample_code"
    ]
   },
   "outputs": [
    {
     "name": "stdout",
     "output_type": "stream",
     "text": [
      "      year  theme_id\nyear                \n1950     7         7\n1953     4         4\n1954    14        14\n1955    28        28\n1956    12        12\n"
     ]
    }
   ],
   "source": [
    "# themes_by_year: Number of themes shipped by year\n",
    "themes_by_year = sets.groupby('year')[['year','theme_id']].count()\n",
    "print(themes_by_year.head())"
   ]
  },
  {
   "cell_type": "markdown",
   "metadata": {
    "deletable": false,
    "editable": false,
    "run_control": {
     "frozen": true
    },
    "dc": {
     "key": "a293e5076e"
    },
    "tags": [
     "context"
    ]
   },
   "source": [
    "## 7. Wrapping It All Up!\n<p>Lego blocks offer an unlimited amount of fun across ages. We explored some interesting trends around colors, parts, and themes. </p>"
   ]
  },
  {
   "cell_type": "code",
   "execution_count": 138,
   "metadata": {
    "collapsed": true,
    "trusted": true,
    "dc": {
     "key": "a293e5076e"
    },
    "tags": [
     "sample_code"
    ]
   },
   "outputs": [],
   "source": [
    "# Nothing to do here"
   ]
  }
 ],
 "metadata": {
  "language_info": {
   "codemirror_mode": {
    "name": "ipython",
    "version": 3
   },
   "version": "3.5.2",
   "file_extension": ".py",
   "name": "python",
   "pygments_lexer": "ipython3",
   "mimetype": "text/x-python",
   "nbconvert_exporter": "python"
  },
  "kernelspec": {
   "name": "python3",
   "display_name": "Python 3",
   "language": "python"
  }
 },
 "nbformat": 4,
 "nbformat_minor": 2
}
